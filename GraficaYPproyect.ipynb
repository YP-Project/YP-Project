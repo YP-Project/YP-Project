{
  "metadata": {
    "language_info": {
      "codemirror_mode": {
        "name": "python",
        "version": 3
      },
      "file_extension": ".py",
      "mimetype": "text/x-python",
      "name": "python",
      "nbconvert_exporter": "python",
      "pygments_lexer": "ipython3",
      "version": "3.8"
    },
    "kernelspec": {
      "name": "python",
      "display_name": "Python (Pyodide)",
      "language": "python"
    }
  },
  "nbformat_minor": 4,
  "nbformat": 4,
  "cells": [
    {
      "cell_type": "code",
      "source": "# Analizar la nota de estudiantes ",
      "metadata": {
        "trusted": true
      },
      "execution_count": 1,
      "outputs": []
    },
    {
      "cell_type": "code",
      "source": "import pandas as pd",
      "metadata": {
        "trusted": true
      },
      "execution_count": 30,
      "outputs": []
    },
    {
      "cell_type": "code",
      "source": "from matplotlib import pyplot as plt",
      "metadata": {
        "trusted": true
      },
      "execution_count": 31,
      "outputs": []
    },
    {
      "cell_type": "code",
      "source": "dato = pd.read_csv(\"ProyectoTEA.csv\")",
      "metadata": {
        "trusted": true
      },
      "execution_count": 32,
      "outputs": []
    },
    {
      "cell_type": "code",
      "source": "dato",
      "metadata": {
        "trusted": true
      },
      "execution_count": 33,
      "outputs": [
        {
          "execution_count": 33,
          "output_type": "execute_result",
          "data": {
            "text/plain": "             Nombre y apellidos  Codigo  Numero  Nota\n0                AROCAS PASADAS   24001       1    43\n1                 VISO GILABERT   24002       2    11\n2                AYALA FERRERAS   24003       3    15\n3               RODRIGO MENDOZA   24004       4    88\n4                BASTARDES SOTO   24005       5    38\n5            ANGUERA VILAFRANCA   24006       6    78\n6                  PASCUAL ALOY   24007       7    89\n7                VALLAS GIRVENT   24008       8    30\n8                   RAYA GARCIA   24009       9    58\n9                   ANDREU CRUZ   24010      10    81\n10               BARALDOS COMAS   24011      11    23\n11          BERENGUERAS CUELLAR   24012      12     1\n12  LOPEZ DE PABLO GARCIA UCEDA   24013      13    11\n13                 ARNAU MORENO   24014      14    11\n14                 RAYA GAVILAN   24015      15    19\n15              ZAMBUDIO FIGULS   24016      16    70\n16              BIDAULT CUELLAR   24017      17    68\n17              BIOSCA FONTANET   24018      18     9\n18                 ZAFRA FIGULS   24019      19     2\n19                   ALEU ICART   24020      20    77\n20                  BADIA TORNO   24021      21    63\n21                 MORALES GESE   24022      22    33\n22              BLANCO FONTANET   24023      23    86\n23            ALVAREZ FERNANDEZ   24024      24    12\n24             GARCIA ALMOGUERA   24025      25    48\n25              LIBORI FIGUERAS   24026      26    73\n26                BIDAULT PUEYO   24027      27    80\n27                 BENITEZ JOSE   24028      28    12\n28               PASCUAL FLORES   24029      29    89\n29                  AYALA TORNO   24030      30    41\n30              LISTAN FIGUERAS   24031      31    50\n31               RASERO GAVILAN   24032      32    44\n32                 ARNALOT PUIG   24033      33    37\n33              MOLINER GARRIDO   24034      34     1\n34              GALOBART GARCIA   24035      35     7\n35           LOPEZ GARRIGASSAIT   24036      36    19\n36                SANCHEZ GOMEZ   24037      37     8\n37                ALAVEDRA SUNY   24038      38    90\n38                DANIEL BONVEH   24039      39    80\n39                   MAS FRANCH   24040      40    76\n40                  ALOY COMPTE   24041      41    38\n41                 ASENSIO VEGA   24042      42    26\n42                BIDAULT PEREZ   24043      43    28\n43               ALOY CODINACHS   24044      44    59\n44         ALTIMIRAS ARMENTEROS   24045      45    49\n45             BELMONTE SANCHEZ   24046      46    36\n46                BAJONA GARCIA   24047      47     1\n47            AGUILAR RODRIGUEZ   24048      48    79\n48                 BARRIGA SOTO   24049      49    78",
            "text/html": "<div>\n<style scoped>\n    .dataframe tbody tr th:only-of-type {\n        vertical-align: middle;\n    }\n\n    .dataframe tbody tr th {\n        vertical-align: top;\n    }\n\n    .dataframe thead th {\n        text-align: right;\n    }\n</style>\n<table border=\"1\" class=\"dataframe\">\n  <thead>\n    <tr style=\"text-align: right;\">\n      <th></th>\n      <th>Nombre y apellidos</th>\n      <th>Codigo</th>\n      <th>Numero</th>\n      <th>Nota</th>\n    </tr>\n  </thead>\n  <tbody>\n    <tr>\n      <th>0</th>\n      <td>AROCAS PASADAS</td>\n      <td>24001</td>\n      <td>1</td>\n      <td>43</td>\n    </tr>\n    <tr>\n      <th>1</th>\n      <td>VISO GILABERT</td>\n      <td>24002</td>\n      <td>2</td>\n      <td>11</td>\n    </tr>\n    <tr>\n      <th>2</th>\n      <td>AYALA FERRERAS</td>\n      <td>24003</td>\n      <td>3</td>\n      <td>15</td>\n    </tr>\n    <tr>\n      <th>3</th>\n      <td>RODRIGO MENDOZA</td>\n      <td>24004</td>\n      <td>4</td>\n      <td>88</td>\n    </tr>\n    <tr>\n      <th>4</th>\n      <td>BASTARDES SOTO</td>\n      <td>24005</td>\n      <td>5</td>\n      <td>38</td>\n    </tr>\n    <tr>\n      <th>5</th>\n      <td>ANGUERA VILAFRANCA</td>\n      <td>24006</td>\n      <td>6</td>\n      <td>78</td>\n    </tr>\n    <tr>\n      <th>6</th>\n      <td>PASCUAL ALOY</td>\n      <td>24007</td>\n      <td>7</td>\n      <td>89</td>\n    </tr>\n    <tr>\n      <th>7</th>\n      <td>VALLAS GIRVENT</td>\n      <td>24008</td>\n      <td>8</td>\n      <td>30</td>\n    </tr>\n    <tr>\n      <th>8</th>\n      <td>RAYA GARCIA</td>\n      <td>24009</td>\n      <td>9</td>\n      <td>58</td>\n    </tr>\n    <tr>\n      <th>9</th>\n      <td>ANDREU CRUZ</td>\n      <td>24010</td>\n      <td>10</td>\n      <td>81</td>\n    </tr>\n    <tr>\n      <th>10</th>\n      <td>BARALDOS COMAS</td>\n      <td>24011</td>\n      <td>11</td>\n      <td>23</td>\n    </tr>\n    <tr>\n      <th>11</th>\n      <td>BERENGUERAS CUELLAR</td>\n      <td>24012</td>\n      <td>12</td>\n      <td>1</td>\n    </tr>\n    <tr>\n      <th>12</th>\n      <td>LOPEZ DE PABLO GARCIA UCEDA</td>\n      <td>24013</td>\n      <td>13</td>\n      <td>11</td>\n    </tr>\n    <tr>\n      <th>13</th>\n      <td>ARNAU MORENO</td>\n      <td>24014</td>\n      <td>14</td>\n      <td>11</td>\n    </tr>\n    <tr>\n      <th>14</th>\n      <td>RAYA GAVILAN</td>\n      <td>24015</td>\n      <td>15</td>\n      <td>19</td>\n    </tr>\n    <tr>\n      <th>15</th>\n      <td>ZAMBUDIO FIGULS</td>\n      <td>24016</td>\n      <td>16</td>\n      <td>70</td>\n    </tr>\n    <tr>\n      <th>16</th>\n      <td>BIDAULT CUELLAR</td>\n      <td>24017</td>\n      <td>17</td>\n      <td>68</td>\n    </tr>\n    <tr>\n      <th>17</th>\n      <td>BIOSCA FONTANET</td>\n      <td>24018</td>\n      <td>18</td>\n      <td>9</td>\n    </tr>\n    <tr>\n      <th>18</th>\n      <td>ZAFRA FIGULS</td>\n      <td>24019</td>\n      <td>19</td>\n      <td>2</td>\n    </tr>\n    <tr>\n      <th>19</th>\n      <td>ALEU ICART</td>\n      <td>24020</td>\n      <td>20</td>\n      <td>77</td>\n    </tr>\n    <tr>\n      <th>20</th>\n      <td>BADIA TORNO</td>\n      <td>24021</td>\n      <td>21</td>\n      <td>63</td>\n    </tr>\n    <tr>\n      <th>21</th>\n      <td>MORALES GESE</td>\n      <td>24022</td>\n      <td>22</td>\n      <td>33</td>\n    </tr>\n    <tr>\n      <th>22</th>\n      <td>BLANCO FONTANET</td>\n      <td>24023</td>\n      <td>23</td>\n      <td>86</td>\n    </tr>\n    <tr>\n      <th>23</th>\n      <td>ALVAREZ FERNANDEZ</td>\n      <td>24024</td>\n      <td>24</td>\n      <td>12</td>\n    </tr>\n    <tr>\n      <th>24</th>\n      <td>GARCIA ALMOGUERA</td>\n      <td>24025</td>\n      <td>25</td>\n      <td>48</td>\n    </tr>\n    <tr>\n      <th>25</th>\n      <td>LIBORI FIGUERAS</td>\n      <td>24026</td>\n      <td>26</td>\n      <td>73</td>\n    </tr>\n    <tr>\n      <th>26</th>\n      <td>BIDAULT PUEYO</td>\n      <td>24027</td>\n      <td>27</td>\n      <td>80</td>\n    </tr>\n    <tr>\n      <th>27</th>\n      <td>BENITEZ JOSE</td>\n      <td>24028</td>\n      <td>28</td>\n      <td>12</td>\n    </tr>\n    <tr>\n      <th>28</th>\n      <td>PASCUAL FLORES</td>\n      <td>24029</td>\n      <td>29</td>\n      <td>89</td>\n    </tr>\n    <tr>\n      <th>29</th>\n      <td>AYALA TORNO</td>\n      <td>24030</td>\n      <td>30</td>\n      <td>41</td>\n    </tr>\n    <tr>\n      <th>30</th>\n      <td>LISTAN FIGUERAS</td>\n      <td>24031</td>\n      <td>31</td>\n      <td>50</td>\n    </tr>\n    <tr>\n      <th>31</th>\n      <td>RASERO GAVILAN</td>\n      <td>24032</td>\n      <td>32</td>\n      <td>44</td>\n    </tr>\n    <tr>\n      <th>32</th>\n      <td>ARNALOT PUIG</td>\n      <td>24033</td>\n      <td>33</td>\n      <td>37</td>\n    </tr>\n    <tr>\n      <th>33</th>\n      <td>MOLINER GARRIDO</td>\n      <td>24034</td>\n      <td>34</td>\n      <td>1</td>\n    </tr>\n    <tr>\n      <th>34</th>\n      <td>GALOBART GARCIA</td>\n      <td>24035</td>\n      <td>35</td>\n      <td>7</td>\n    </tr>\n    <tr>\n      <th>35</th>\n      <td>LOPEZ GARRIGASSAIT</td>\n      <td>24036</td>\n      <td>36</td>\n      <td>19</td>\n    </tr>\n    <tr>\n      <th>36</th>\n      <td>SANCHEZ GOMEZ</td>\n      <td>24037</td>\n      <td>37</td>\n      <td>8</td>\n    </tr>\n    <tr>\n      <th>37</th>\n      <td>ALAVEDRA SUNY</td>\n      <td>24038</td>\n      <td>38</td>\n      <td>90</td>\n    </tr>\n    <tr>\n      <th>38</th>\n      <td>DANIEL BONVEH</td>\n      <td>24039</td>\n      <td>39</td>\n      <td>80</td>\n    </tr>\n    <tr>\n      <th>39</th>\n      <td>MAS FRANCH</td>\n      <td>24040</td>\n      <td>40</td>\n      <td>76</td>\n    </tr>\n    <tr>\n      <th>40</th>\n      <td>ALOY COMPTE</td>\n      <td>24041</td>\n      <td>41</td>\n      <td>38</td>\n    </tr>\n    <tr>\n      <th>41</th>\n      <td>ASENSIO VEGA</td>\n      <td>24042</td>\n      <td>42</td>\n      <td>26</td>\n    </tr>\n    <tr>\n      <th>42</th>\n      <td>BIDAULT PEREZ</td>\n      <td>24043</td>\n      <td>43</td>\n      <td>28</td>\n    </tr>\n    <tr>\n      <th>43</th>\n      <td>ALOY CODINACHS</td>\n      <td>24044</td>\n      <td>44</td>\n      <td>59</td>\n    </tr>\n    <tr>\n      <th>44</th>\n      <td>ALTIMIRAS ARMENTEROS</td>\n      <td>24045</td>\n      <td>45</td>\n      <td>49</td>\n    </tr>\n    <tr>\n      <th>45</th>\n      <td>BELMONTE SANCHEZ</td>\n      <td>24046</td>\n      <td>46</td>\n      <td>36</td>\n    </tr>\n    <tr>\n      <th>46</th>\n      <td>BAJONA GARCIA</td>\n      <td>24047</td>\n      <td>47</td>\n      <td>1</td>\n    </tr>\n    <tr>\n      <th>47</th>\n      <td>AGUILAR RODRIGUEZ</td>\n      <td>24048</td>\n      <td>48</td>\n      <td>79</td>\n    </tr>\n    <tr>\n      <th>48</th>\n      <td>BARRIGA SOTO</td>\n      <td>24049</td>\n      <td>49</td>\n      <td>78</td>\n    </tr>\n  </tbody>\n</table>\n</div>"
          },
          "metadata": {}
        }
      ]
    },
    {
      "cell_type": "code",
      "source": "type(dato)",
      "metadata": {
        "trusted": true
      },
      "execution_count": 43,
      "outputs": [
        {
          "execution_count": 43,
          "output_type": "execute_result",
          "data": {
            "text/plain": "pandas.core.frame.DataFrame"
          },
          "metadata": {}
        }
      ]
    },
    {
      "cell_type": "code",
      "source": "dato.Numero",
      "metadata": {
        "trusted": true
      },
      "execution_count": 45,
      "outputs": [
        {
          "execution_count": 45,
          "output_type": "execute_result",
          "data": {
            "text/plain": "0      1\n1      2\n2      3\n3      4\n4      5\n5      6\n6      7\n7      8\n8      9\n9     10\n10    11\n11    12\n12    13\n13    14\n14    15\n15    16\n16    17\n17    18\n18    19\n19    20\n20    21\n21    22\n22    23\n23    24\n24    25\n25    26\n26    27\n27    28\n28    29\n29    30\n30    31\n31    32\n32    33\n33    34\n34    35\n35    36\n36    37\n37    38\n38    39\n39    40\n40    41\n41    42\n42    43\n43    44\n44    45\n45    46\n46    47\n47    48\n48    49\nName: Numero, dtype: int64"
          },
          "metadata": {}
        }
      ]
    },
    {
      "cell_type": "code",
      "source": "type (dato.Codigo)",
      "metadata": {
        "trusted": true
      },
      "execution_count": 46,
      "outputs": [
        {
          "execution_count": 46,
          "output_type": "execute_result",
          "data": {
            "text/plain": "pandas.core.series.Series"
          },
          "metadata": {}
        }
      ]
    },
    {
      "cell_type": "code",
      "source": "dato.Numero.iloc[3]",
      "metadata": {
        "trusted": true
      },
      "execution_count": 52,
      "outputs": [
        {
          "execution_count": 52,
          "output_type": "execute_result",
          "data": {
            "text/plain": "4"
          },
          "metadata": {}
        }
      ]
    },
    {
      "cell_type": "code",
      "source": "colores = ['blue', 'red', 'green', 'yellow']\nplt.bar(dato.Numero, dato.Nota, color = colores)\nplt.title (\"Notas y Número de parcela\")\nplt.xlabel (\"Número de parclea\")\nplt.ylabel (\"Notas\")\nplt.show()",
      "metadata": {
        "trusted": true
      },
      "execution_count": 64,
      "outputs": [
        {
          "output_type": "display_data",
          "data": {
            "text/plain": "<pyolite.display.Image at 0x72c19b8>",
            "image/png": "[encoded data removed]"
          },
          "metadata": {}
        }
      ]
    },
    {
      "cell_type": "code",
      "source": "",
      "metadata": {},
      "execution_count": null,
      "outputs": []
    }
  ]
}